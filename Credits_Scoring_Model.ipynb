{
  "cells": [
    {
      "cell_type": "markdown",
      "metadata": {
        "id": "kNrn65-yd0aW"
      },
      "source": [
        " # Imports"
      ]
    },
    {
      "cell_type": "code",
      "execution_count": 2,
      "metadata": {
        "id": "DJaGrZ7QAJUY"
      },
      "outputs": [],
      "source": [
        "# 📘 Credit Scoring Model (CodeAlpha Internship Project)\n",
        "# Complete Notebook with EDA, Modeling, and Output Plots\n",
        "\n",
        "import pandas as pd\n",
        "import numpy as np\n",
        "import seaborn as sns\n",
        "import matplotlib.pyplot as plt\n",
        "import os\n",
        "from sklearn.model_selection import train_test_split\n",
        "from sklearn.preprocessing import LabelEncoder, StandardScaler\n",
        "from sklearn.linear_model import LogisticRegression\n",
        "from sklearn.tree import DecisionTreeClassifier\n",
        "from sklearn.ensemble import RandomForestClassifier\n",
        "from sklearn.metrics import classification_report, confusion_matrix, roc_auc_score, roc_curve\n",
        "import joblib"
      ]
    },
    {
      "cell_type": "markdown",
      "metadata": {
        "id": "vkkCAmOgd4bv"
      },
      "source": [
        "<h3>Load Data"
      ]
    },
    {
      "cell_type": "code",
      "execution_count": null,
      "metadata": {},
      "outputs": [],
      "source": [
        "import kagglehub\n",
        "\n",
        "# Download latest version\n",
        "path = kagglehub.dataset_download(\"parisrohan/credit-score-classification\")\n",
        "\n",
        "print(\"Path to dataset files:\", path)"
      ]
    },
    {
      "cell_type": "code",
      "execution_count": 3,
      "metadata": {
        "colab": {
          "base_uri": "https://localhost:8080/"
        },
        "id": "CvopfJNUSEp4",
        "outputId": "1f8362a1-4f6b-416f-a8cf-78faefd331d5"
      },
      "outputs": [
        {
          "name": "stderr",
          "output_type": "stream",
          "text": [
            "C:\\Users\\Zain\\AppData\\Local\\Temp\\ipykernel_12484\\1639480617.py:8: DtypeWarning: Columns (26) have mixed types. Specify dtype option on import or set low_memory=False.\n",
            "  train_df = pd.read_csv(train_path)\n"
          ]
        }
      ],
      "source": [
        "# Paths\n",
        "train_path = 'train.csv'\n",
        "test_path = 'test.csv'\n",
        "plot_dir = 'plots/'\n",
        "os.makedirs(plot_dir, exist_ok=True)\n",
        "\n",
        "# Load Data\n",
        "train_df = pd.read_csv(train_path)\n",
        "test_df = pd.read_csv(test_path)\n"
      ]
    },
    {
      "cell_type": "markdown",
      "metadata": {
        "id": "wD63-kSXd9eX"
      },
      "source": [
        "# Exploratory Data Analysis"
      ]
    },
    {
      "cell_type": "code",
      "execution_count": 4,
      "metadata": {
        "id": "WeJBislsSwgU"
      },
      "outputs": [],
      "source": [
        "# Combine for EDA\n",
        "train_df['Source'] = 'Train'\n",
        "test_df['Source'] = 'Test'\n",
        "data = pd.concat([train_df, test_df])"
      ]
    },
    {
      "cell_type": "code",
      "execution_count": 5,
      "metadata": {
        "colab": {
          "base_uri": "https://localhost:8080/",
          "height": 812
        },
        "id": "-NEBCli0Wygj",
        "outputId": "3d085689-5cd9-4ba9-d11b-beb72ea1d20d"
      },
      "outputs": [
        {
          "data": {
            "text/html": [
              "<div>\n",
              "<style scoped>\n",
              "    .dataframe tbody tr th:only-of-type {\n",
              "        vertical-align: middle;\n",
              "    }\n",
              "\n",
              "    .dataframe tbody tr th {\n",
              "        vertical-align: top;\n",
              "    }\n",
              "\n",
              "    .dataframe thead th {\n",
              "        text-align: right;\n",
              "    }\n",
              "</style>\n",
              "<table border=\"1\" class=\"dataframe\">\n",
              "  <thead>\n",
              "    <tr style=\"text-align: right;\">\n",
              "      <th></th>\n",
              "      <th>ID</th>\n",
              "      <th>Customer_ID</th>\n",
              "      <th>Month</th>\n",
              "      <th>Name</th>\n",
              "      <th>Age</th>\n",
              "      <th>SSN</th>\n",
              "      <th>Occupation</th>\n",
              "      <th>Annual_Income</th>\n",
              "      <th>Monthly_Inhand_Salary</th>\n",
              "      <th>Num_Bank_Accounts</th>\n",
              "      <th>...</th>\n",
              "      <th>Outstanding_Debt</th>\n",
              "      <th>Credit_Utilization_Ratio</th>\n",
              "      <th>Credit_History_Age</th>\n",
              "      <th>Payment_of_Min_Amount</th>\n",
              "      <th>Total_EMI_per_month</th>\n",
              "      <th>Amount_invested_monthly</th>\n",
              "      <th>Payment_Behaviour</th>\n",
              "      <th>Monthly_Balance</th>\n",
              "      <th>Credit_Score</th>\n",
              "      <th>Source</th>\n",
              "    </tr>\n",
              "  </thead>\n",
              "  <tbody>\n",
              "    <tr>\n",
              "      <th>0</th>\n",
              "      <td>0x1602</td>\n",
              "      <td>CUS_0xd40</td>\n",
              "      <td>January</td>\n",
              "      <td>Aaron Maashoh</td>\n",
              "      <td>23</td>\n",
              "      <td>821-00-0265</td>\n",
              "      <td>Scientist</td>\n",
              "      <td>19114.12</td>\n",
              "      <td>1824.843333</td>\n",
              "      <td>3</td>\n",
              "      <td>...</td>\n",
              "      <td>809.98</td>\n",
              "      <td>26.822620</td>\n",
              "      <td>22 Years and 1 Months</td>\n",
              "      <td>No</td>\n",
              "      <td>49.574949</td>\n",
              "      <td>80.41529543900253</td>\n",
              "      <td>High_spent_Small_value_payments</td>\n",
              "      <td>312.49408867943663</td>\n",
              "      <td>Good</td>\n",
              "      <td>Train</td>\n",
              "    </tr>\n",
              "    <tr>\n",
              "      <th>1</th>\n",
              "      <td>0x1603</td>\n",
              "      <td>CUS_0xd40</td>\n",
              "      <td>February</td>\n",
              "      <td>Aaron Maashoh</td>\n",
              "      <td>23</td>\n",
              "      <td>821-00-0265</td>\n",
              "      <td>Scientist</td>\n",
              "      <td>19114.12</td>\n",
              "      <td>NaN</td>\n",
              "      <td>3</td>\n",
              "      <td>...</td>\n",
              "      <td>809.98</td>\n",
              "      <td>31.944960</td>\n",
              "      <td>NaN</td>\n",
              "      <td>No</td>\n",
              "      <td>49.574949</td>\n",
              "      <td>118.28022162236736</td>\n",
              "      <td>Low_spent_Large_value_payments</td>\n",
              "      <td>284.62916249607184</td>\n",
              "      <td>Good</td>\n",
              "      <td>Train</td>\n",
              "    </tr>\n",
              "    <tr>\n",
              "      <th>2</th>\n",
              "      <td>0x1604</td>\n",
              "      <td>CUS_0xd40</td>\n",
              "      <td>March</td>\n",
              "      <td>Aaron Maashoh</td>\n",
              "      <td>-500</td>\n",
              "      <td>821-00-0265</td>\n",
              "      <td>Scientist</td>\n",
              "      <td>19114.12</td>\n",
              "      <td>NaN</td>\n",
              "      <td>3</td>\n",
              "      <td>...</td>\n",
              "      <td>809.98</td>\n",
              "      <td>28.609352</td>\n",
              "      <td>22 Years and 3 Months</td>\n",
              "      <td>No</td>\n",
              "      <td>49.574949</td>\n",
              "      <td>81.699521264648</td>\n",
              "      <td>Low_spent_Medium_value_payments</td>\n",
              "      <td>331.2098628537912</td>\n",
              "      <td>Good</td>\n",
              "      <td>Train</td>\n",
              "    </tr>\n",
              "    <tr>\n",
              "      <th>3</th>\n",
              "      <td>0x1605</td>\n",
              "      <td>CUS_0xd40</td>\n",
              "      <td>April</td>\n",
              "      <td>Aaron Maashoh</td>\n",
              "      <td>23</td>\n",
              "      <td>821-00-0265</td>\n",
              "      <td>Scientist</td>\n",
              "      <td>19114.12</td>\n",
              "      <td>NaN</td>\n",
              "      <td>3</td>\n",
              "      <td>...</td>\n",
              "      <td>809.98</td>\n",
              "      <td>31.377862</td>\n",
              "      <td>22 Years and 4 Months</td>\n",
              "      <td>No</td>\n",
              "      <td>49.574949</td>\n",
              "      <td>199.4580743910713</td>\n",
              "      <td>Low_spent_Small_value_payments</td>\n",
              "      <td>223.45130972736786</td>\n",
              "      <td>Good</td>\n",
              "      <td>Train</td>\n",
              "    </tr>\n",
              "    <tr>\n",
              "      <th>4</th>\n",
              "      <td>0x1606</td>\n",
              "      <td>CUS_0xd40</td>\n",
              "      <td>May</td>\n",
              "      <td>Aaron Maashoh</td>\n",
              "      <td>23</td>\n",
              "      <td>821-00-0265</td>\n",
              "      <td>Scientist</td>\n",
              "      <td>19114.12</td>\n",
              "      <td>1824.843333</td>\n",
              "      <td>3</td>\n",
              "      <td>...</td>\n",
              "      <td>809.98</td>\n",
              "      <td>24.797347</td>\n",
              "      <td>22 Years and 5 Months</td>\n",
              "      <td>No</td>\n",
              "      <td>49.574949</td>\n",
              "      <td>41.420153086217326</td>\n",
              "      <td>High_spent_Medium_value_payments</td>\n",
              "      <td>341.48923103222177</td>\n",
              "      <td>Good</td>\n",
              "      <td>Train</td>\n",
              "    </tr>\n",
              "    <tr>\n",
              "      <th>5</th>\n",
              "      <td>0x1607</td>\n",
              "      <td>CUS_0xd40</td>\n",
              "      <td>June</td>\n",
              "      <td>Aaron Maashoh</td>\n",
              "      <td>23</td>\n",
              "      <td>821-00-0265</td>\n",
              "      <td>Scientist</td>\n",
              "      <td>19114.12</td>\n",
              "      <td>NaN</td>\n",
              "      <td>3</td>\n",
              "      <td>...</td>\n",
              "      <td>809.98</td>\n",
              "      <td>27.262259</td>\n",
              "      <td>22 Years and 6 Months</td>\n",
              "      <td>No</td>\n",
              "      <td>49.574949</td>\n",
              "      <td>62.430172331195294</td>\n",
              "      <td>!@9#%8</td>\n",
              "      <td>340.4792117872438</td>\n",
              "      <td>Good</td>\n",
              "      <td>Train</td>\n",
              "    </tr>\n",
              "    <tr>\n",
              "      <th>6</th>\n",
              "      <td>0x1608</td>\n",
              "      <td>CUS_0xd40</td>\n",
              "      <td>July</td>\n",
              "      <td>Aaron Maashoh</td>\n",
              "      <td>23</td>\n",
              "      <td>821-00-0265</td>\n",
              "      <td>Scientist</td>\n",
              "      <td>19114.12</td>\n",
              "      <td>1824.843333</td>\n",
              "      <td>3</td>\n",
              "      <td>...</td>\n",
              "      <td>809.98</td>\n",
              "      <td>22.537593</td>\n",
              "      <td>22 Years and 7 Months</td>\n",
              "      <td>No</td>\n",
              "      <td>49.574949</td>\n",
              "      <td>178.3440674122349</td>\n",
              "      <td>Low_spent_Small_value_payments</td>\n",
              "      <td>244.5653167062043</td>\n",
              "      <td>Good</td>\n",
              "      <td>Train</td>\n",
              "    </tr>\n",
              "    <tr>\n",
              "      <th>7</th>\n",
              "      <td>0x1609</td>\n",
              "      <td>CUS_0xd40</td>\n",
              "      <td>August</td>\n",
              "      <td>NaN</td>\n",
              "      <td>23</td>\n",
              "      <td>#F%$D@*&amp;8</td>\n",
              "      <td>Scientist</td>\n",
              "      <td>19114.12</td>\n",
              "      <td>1824.843333</td>\n",
              "      <td>3</td>\n",
              "      <td>...</td>\n",
              "      <td>809.98</td>\n",
              "      <td>23.933795</td>\n",
              "      <td>NaN</td>\n",
              "      <td>No</td>\n",
              "      <td>49.574949</td>\n",
              "      <td>24.785216509052056</td>\n",
              "      <td>High_spent_Medium_value_payments</td>\n",
              "      <td>358.12416760938714</td>\n",
              "      <td>Standard</td>\n",
              "      <td>Train</td>\n",
              "    </tr>\n",
              "    <tr>\n",
              "      <th>8</th>\n",
              "      <td>0x160e</td>\n",
              "      <td>CUS_0x21b1</td>\n",
              "      <td>January</td>\n",
              "      <td>Rick Rothackerj</td>\n",
              "      <td>28_</td>\n",
              "      <td>004-07-5839</td>\n",
              "      <td>_______</td>\n",
              "      <td>34847.84</td>\n",
              "      <td>3037.986667</td>\n",
              "      <td>2</td>\n",
              "      <td>...</td>\n",
              "      <td>605.03</td>\n",
              "      <td>24.464031</td>\n",
              "      <td>26 Years and 7 Months</td>\n",
              "      <td>No</td>\n",
              "      <td>18.816215</td>\n",
              "      <td>104.291825168246</td>\n",
              "      <td>Low_spent_Small_value_payments</td>\n",
              "      <td>470.69062692529184</td>\n",
              "      <td>Standard</td>\n",
              "      <td>Train</td>\n",
              "    </tr>\n",
              "    <tr>\n",
              "      <th>9</th>\n",
              "      <td>0x160f</td>\n",
              "      <td>CUS_0x21b1</td>\n",
              "      <td>February</td>\n",
              "      <td>Rick Rothackerj</td>\n",
              "      <td>28</td>\n",
              "      <td>004-07-5839</td>\n",
              "      <td>Teacher</td>\n",
              "      <td>34847.84</td>\n",
              "      <td>3037.986667</td>\n",
              "      <td>2</td>\n",
              "      <td>...</td>\n",
              "      <td>605.03</td>\n",
              "      <td>38.550848</td>\n",
              "      <td>26 Years and 8 Months</td>\n",
              "      <td>No</td>\n",
              "      <td>18.816215</td>\n",
              "      <td>40.39123782853101</td>\n",
              "      <td>High_spent_Large_value_payments</td>\n",
              "      <td>484.5912142650067</td>\n",
              "      <td>Good</td>\n",
              "      <td>Train</td>\n",
              "    </tr>\n",
              "    <tr>\n",
              "      <th>10</th>\n",
              "      <td>0x1610</td>\n",
              "      <td>CUS_0x21b1</td>\n",
              "      <td>March</td>\n",
              "      <td>Rick Rothackerj</td>\n",
              "      <td>28</td>\n",
              "      <td>004-07-5839</td>\n",
              "      <td>Teacher</td>\n",
              "      <td>34847.84_</td>\n",
              "      <td>3037.986667</td>\n",
              "      <td>2</td>\n",
              "      <td>...</td>\n",
              "      <td>605.03</td>\n",
              "      <td>33.224951</td>\n",
              "      <td>26 Years and 9 Months</td>\n",
              "      <td>No</td>\n",
              "      <td>18.816215</td>\n",
              "      <td>58.51597569589465</td>\n",
              "      <td>High_spent_Large_value_payments</td>\n",
              "      <td>466.46647639764313</td>\n",
              "      <td>Standard</td>\n",
              "      <td>Train</td>\n",
              "    </tr>\n",
              "    <tr>\n",
              "      <th>11</th>\n",
              "      <td>0x1611</td>\n",
              "      <td>CUS_0x21b1</td>\n",
              "      <td>April</td>\n",
              "      <td>Rick Rothackerj</td>\n",
              "      <td>28</td>\n",
              "      <td>004-07-5839</td>\n",
              "      <td>Teacher</td>\n",
              "      <td>34847.84</td>\n",
              "      <td>NaN</td>\n",
              "      <td>2</td>\n",
              "      <td>...</td>\n",
              "      <td>605.03</td>\n",
              "      <td>39.182656</td>\n",
              "      <td>26 Years and 10 Months</td>\n",
              "      <td>No</td>\n",
              "      <td>18.816215</td>\n",
              "      <td>99.30622796053305</td>\n",
              "      <td>Low_spent_Medium_value_payments</td>\n",
              "      <td>465.6762241330048</td>\n",
              "      <td>Good</td>\n",
              "      <td>Train</td>\n",
              "    </tr>\n",
              "    <tr>\n",
              "      <th>12</th>\n",
              "      <td>0x1612</td>\n",
              "      <td>CUS_0x21b1</td>\n",
              "      <td>May</td>\n",
              "      <td>Rick Rothackerj</td>\n",
              "      <td>28</td>\n",
              "      <td>004-07-5839</td>\n",
              "      <td>Teacher</td>\n",
              "      <td>34847.84</td>\n",
              "      <td>3037.986667</td>\n",
              "      <td>2</td>\n",
              "      <td>...</td>\n",
              "      <td>605.03</td>\n",
              "      <td>34.977895</td>\n",
              "      <td>26 Years and 11 Months</td>\n",
              "      <td>No</td>\n",
              "      <td>18.816215</td>\n",
              "      <td>130.11542024292334</td>\n",
              "      <td>Low_spent_Small_value_payments</td>\n",
              "      <td>444.8670318506144</td>\n",
              "      <td>Good</td>\n",
              "      <td>Train</td>\n",
              "    </tr>\n",
              "    <tr>\n",
              "      <th>13</th>\n",
              "      <td>0x1613</td>\n",
              "      <td>CUS_0x21b1</td>\n",
              "      <td>June</td>\n",
              "      <td>Rick Rothackerj</td>\n",
              "      <td>28</td>\n",
              "      <td>004-07-5839</td>\n",
              "      <td>Teacher</td>\n",
              "      <td>34847.84</td>\n",
              "      <td>3037.986667</td>\n",
              "      <td>2</td>\n",
              "      <td>...</td>\n",
              "      <td>605.03</td>\n",
              "      <td>33.381010</td>\n",
              "      <td>27 Years and 0 Months</td>\n",
              "      <td>No</td>\n",
              "      <td>18.816215</td>\n",
              "      <td>43.477190144355745</td>\n",
              "      <td>High_spent_Large_value_payments</td>\n",
              "      <td>481.505261949182</td>\n",
              "      <td>Good</td>\n",
              "      <td>Train</td>\n",
              "    </tr>\n",
              "    <tr>\n",
              "      <th>14</th>\n",
              "      <td>0x1614</td>\n",
              "      <td>CUS_0x21b1</td>\n",
              "      <td>July</td>\n",
              "      <td>Rick Rothackerj</td>\n",
              "      <td>28</td>\n",
              "      <td>004-07-5839</td>\n",
              "      <td>Teacher</td>\n",
              "      <td>34847.84</td>\n",
              "      <td>NaN</td>\n",
              "      <td>2</td>\n",
              "      <td>...</td>\n",
              "      <td>605.03</td>\n",
              "      <td>31.131702</td>\n",
              "      <td>27 Years and 1 Months</td>\n",
              "      <td>NM</td>\n",
              "      <td>18.816215</td>\n",
              "      <td>70.10177420755677</td>\n",
              "      <td>High_spent_Medium_value_payments</td>\n",
              "      <td>464.8806778859809</td>\n",
              "      <td>Good</td>\n",
              "      <td>Train</td>\n",
              "    </tr>\n",
              "  </tbody>\n",
              "</table>\n",
              "<p>15 rows × 29 columns</p>\n",
              "</div>"
            ],
            "text/plain": [
              "        ID Customer_ID     Month             Name   Age          SSN  \\\n",
              "0   0x1602   CUS_0xd40   January    Aaron Maashoh    23  821-00-0265   \n",
              "1   0x1603   CUS_0xd40  February    Aaron Maashoh    23  821-00-0265   \n",
              "2   0x1604   CUS_0xd40     March    Aaron Maashoh  -500  821-00-0265   \n",
              "3   0x1605   CUS_0xd40     April    Aaron Maashoh    23  821-00-0265   \n",
              "4   0x1606   CUS_0xd40       May    Aaron Maashoh    23  821-00-0265   \n",
              "5   0x1607   CUS_0xd40      June    Aaron Maashoh    23  821-00-0265   \n",
              "6   0x1608   CUS_0xd40      July    Aaron Maashoh    23  821-00-0265   \n",
              "7   0x1609   CUS_0xd40    August              NaN    23    #F%$D@*&8   \n",
              "8   0x160e  CUS_0x21b1   January  Rick Rothackerj   28_  004-07-5839   \n",
              "9   0x160f  CUS_0x21b1  February  Rick Rothackerj    28  004-07-5839   \n",
              "10  0x1610  CUS_0x21b1     March  Rick Rothackerj    28  004-07-5839   \n",
              "11  0x1611  CUS_0x21b1     April  Rick Rothackerj    28  004-07-5839   \n",
              "12  0x1612  CUS_0x21b1       May  Rick Rothackerj    28  004-07-5839   \n",
              "13  0x1613  CUS_0x21b1      June  Rick Rothackerj    28  004-07-5839   \n",
              "14  0x1614  CUS_0x21b1      July  Rick Rothackerj    28  004-07-5839   \n",
              "\n",
              "   Occupation Annual_Income  Monthly_Inhand_Salary  Num_Bank_Accounts  ...  \\\n",
              "0   Scientist      19114.12            1824.843333                  3  ...   \n",
              "1   Scientist      19114.12                    NaN                  3  ...   \n",
              "2   Scientist      19114.12                    NaN                  3  ...   \n",
              "3   Scientist      19114.12                    NaN                  3  ...   \n",
              "4   Scientist      19114.12            1824.843333                  3  ...   \n",
              "5   Scientist      19114.12                    NaN                  3  ...   \n",
              "6   Scientist      19114.12            1824.843333                  3  ...   \n",
              "7   Scientist      19114.12            1824.843333                  3  ...   \n",
              "8     _______      34847.84            3037.986667                  2  ...   \n",
              "9     Teacher      34847.84            3037.986667                  2  ...   \n",
              "10    Teacher     34847.84_            3037.986667                  2  ...   \n",
              "11    Teacher      34847.84                    NaN                  2  ...   \n",
              "12    Teacher      34847.84            3037.986667                  2  ...   \n",
              "13    Teacher      34847.84            3037.986667                  2  ...   \n",
              "14    Teacher      34847.84                    NaN                  2  ...   \n",
              "\n",
              "    Outstanding_Debt  Credit_Utilization_Ratio      Credit_History_Age  \\\n",
              "0             809.98                 26.822620   22 Years and 1 Months   \n",
              "1             809.98                 31.944960                     NaN   \n",
              "2             809.98                 28.609352   22 Years and 3 Months   \n",
              "3             809.98                 31.377862   22 Years and 4 Months   \n",
              "4             809.98                 24.797347   22 Years and 5 Months   \n",
              "5             809.98                 27.262259   22 Years and 6 Months   \n",
              "6             809.98                 22.537593   22 Years and 7 Months   \n",
              "7             809.98                 23.933795                     NaN   \n",
              "8             605.03                 24.464031   26 Years and 7 Months   \n",
              "9             605.03                 38.550848   26 Years and 8 Months   \n",
              "10            605.03                 33.224951   26 Years and 9 Months   \n",
              "11            605.03                 39.182656  26 Years and 10 Months   \n",
              "12            605.03                 34.977895  26 Years and 11 Months   \n",
              "13            605.03                 33.381010   27 Years and 0 Months   \n",
              "14            605.03                 31.131702   27 Years and 1 Months   \n",
              "\n",
              "   Payment_of_Min_Amount  Total_EMI_per_month Amount_invested_monthly  \\\n",
              "0                     No            49.574949       80.41529543900253   \n",
              "1                     No            49.574949      118.28022162236736   \n",
              "2                     No            49.574949         81.699521264648   \n",
              "3                     No            49.574949       199.4580743910713   \n",
              "4                     No            49.574949      41.420153086217326   \n",
              "5                     No            49.574949      62.430172331195294   \n",
              "6                     No            49.574949       178.3440674122349   \n",
              "7                     No            49.574949      24.785216509052056   \n",
              "8                     No            18.816215        104.291825168246   \n",
              "9                     No            18.816215       40.39123782853101   \n",
              "10                    No            18.816215       58.51597569589465   \n",
              "11                    No            18.816215       99.30622796053305   \n",
              "12                    No            18.816215      130.11542024292334   \n",
              "13                    No            18.816215      43.477190144355745   \n",
              "14                    NM            18.816215       70.10177420755677   \n",
              "\n",
              "                   Payment_Behaviour     Monthly_Balance Credit_Score Source  \n",
              "0    High_spent_Small_value_payments  312.49408867943663         Good  Train  \n",
              "1     Low_spent_Large_value_payments  284.62916249607184         Good  Train  \n",
              "2    Low_spent_Medium_value_payments   331.2098628537912         Good  Train  \n",
              "3     Low_spent_Small_value_payments  223.45130972736786         Good  Train  \n",
              "4   High_spent_Medium_value_payments  341.48923103222177         Good  Train  \n",
              "5                             !@9#%8   340.4792117872438         Good  Train  \n",
              "6     Low_spent_Small_value_payments   244.5653167062043         Good  Train  \n",
              "7   High_spent_Medium_value_payments  358.12416760938714     Standard  Train  \n",
              "8     Low_spent_Small_value_payments  470.69062692529184     Standard  Train  \n",
              "9    High_spent_Large_value_payments   484.5912142650067         Good  Train  \n",
              "10   High_spent_Large_value_payments  466.46647639764313     Standard  Train  \n",
              "11   Low_spent_Medium_value_payments   465.6762241330048         Good  Train  \n",
              "12    Low_spent_Small_value_payments   444.8670318506144         Good  Train  \n",
              "13   High_spent_Large_value_payments    481.505261949182         Good  Train  \n",
              "14  High_spent_Medium_value_payments   464.8806778859809         Good  Train  \n",
              "\n",
              "[15 rows x 29 columns]"
            ]
          },
          "execution_count": 5,
          "metadata": {},
          "output_type": "execute_result"
        }
      ],
      "source": [
        "data.head(15)"
      ]
    },
    {
      "cell_type": "markdown",
      "metadata": {
        "id": "dXh95v19eCFF"
      },
      "source": [
        "# Overview of Data"
      ]
    },
    {
      "cell_type": "code",
      "execution_count": 6,
      "metadata": {
        "colab": {
          "base_uri": "https://localhost:8080/"
        },
        "id": "lo_mrkW0Sw6I",
        "outputId": "56ee858a-0899-40ad-f1c2-4f83f16543ef"
      },
      "outputs": [
        {
          "name": "stdout",
          "output_type": "stream",
          "text": [
            "Shape: (150000, 29)\n",
            "Columns: ['ID', 'Customer_ID', 'Month', 'Name', 'Age', 'SSN', 'Occupation', 'Annual_Income', 'Monthly_Inhand_Salary', 'Num_Bank_Accounts', 'Num_Credit_Card', 'Interest_Rate', 'Num_of_Loan', 'Type_of_Loan', 'Delay_from_due_date', 'Num_of_Delayed_Payment', 'Changed_Credit_Limit', 'Num_Credit_Inquiries', 'Credit_Mix', 'Outstanding_Debt', 'Credit_Utilization_Ratio', 'Credit_History_Age', 'Payment_of_Min_Amount', 'Total_EMI_per_month', 'Amount_invested_monthly', 'Payment_Behaviour', 'Monthly_Balance', 'Credit_Score', 'Source']\n",
            "Missing values:\n",
            " ID                              0\n",
            "Customer_ID                     0\n",
            "Month                           0\n",
            "Name                        15000\n",
            "Age                             0\n",
            "SSN                             0\n",
            "Occupation                      0\n",
            "Annual_Income                   0\n",
            "Monthly_Inhand_Salary       22500\n",
            "Num_Bank_Accounts               0\n",
            "Num_Credit_Card                 0\n",
            "Interest_Rate                   0\n",
            "Num_of_Loan                     0\n",
            "Type_of_Loan                17112\n",
            "Delay_from_due_date             0\n",
            "Num_of_Delayed_Payment      10500\n",
            "Changed_Credit_Limit            0\n",
            "Num_Credit_Inquiries         3000\n",
            "Credit_Mix                      0\n",
            "Outstanding_Debt                0\n",
            "Credit_Utilization_Ratio        0\n",
            "Credit_History_Age          13500\n",
            "Payment_of_Min_Amount           0\n",
            "Total_EMI_per_month             0\n",
            "Amount_invested_monthly      6750\n",
            "Payment_Behaviour               0\n",
            "Monthly_Balance              1762\n",
            "Credit_Score                50000\n",
            "Source                          0\n",
            "dtype: int64\n"
          ]
        }
      ],
      "source": [
        "print(\"Shape:\", data.shape)\n",
        "print(\"Columns:\", data.columns.tolist())\n",
        "print(\"Missing values:\\n\", data.isnull().sum())"
      ]
    },
    {
      "cell_type": "markdown",
      "metadata": {
        "id": "WC5OkbTneDq7"
      },
      "source": [
        "### Drop Null Values"
      ]
    },
    {
      "cell_type": "code",
      "execution_count": 7,
      "metadata": {
        "id": "_-r-TEHoZC8U"
      },
      "outputs": [],
      "source": [
        "data.dropna(inplace=True)"
      ]
    },
    {
      "cell_type": "markdown",
      "metadata": {
        "id": "DHNVRKsEeHie"
      },
      "source": [
        "# Univariate Analysis"
      ]
    },
    {
      "cell_type": "code",
      "execution_count": 11,
      "metadata": {
        "id": "tvc38o5MS7Iw"
      },
      "outputs": [],
      "source": [
        "numeric_cols = data.select_dtypes(include=np.number).columns\n",
        "for col in numeric_cols:\n",
        "    plt.figure(figsize=(6, 4))\n",
        "    sns.histplot(data[col].dropna(), kde=True)\n",
        "    plt.title(f\"Distribution of {col}\")\n",
        "    plt.savefig(f\"{plot_dir}{col}_distribution.png\")\n",
        "    plt.close()"
      ]
    },
    {
      "cell_type": "markdown",
      "metadata": {
        "id": "7YJWbHBSeJg0"
      },
      "source": [
        "# Bivariate Analysis"
      ]
    },
    {
      "cell_type": "code",
      "execution_count": null,
      "metadata": {
        "colab": {
          "base_uri": "https://localhost:8080/",
          "height": 492
        },
        "id": "JrkkQLEPS_0L",
        "outputId": "9196b331-2fc3-49fe-bfb8-de661ba48726"
      },
      "outputs": [],
      "source": [
        "plt.figure(figsize=(10, 6))\n",
        "sns.boxplot(x='Credit_Score', y='Outstanding_Debt', data=train_df,color='purple')\n",
        "plt.title(\"Outstanding Debt by Credit Score\")\n",
        "plt.savefig(f\"{plot_dir}outstanding_debt_vs_credit_score.png\")\n",
        "plt.show()\n",
        "plt.close()"
      ]
    },
    {
      "cell_type": "markdown",
      "metadata": {
        "id": "n-SqwSfyeLz7"
      },
      "source": [
        "# Correlation"
      ]
    },
    {
      "cell_type": "code",
      "execution_count": 8,
      "metadata": {
        "colab": {
          "base_uri": "https://localhost:8080/",
          "height": 624
        },
        "id": "4gYnX_U5TFKw",
        "outputId": "df2178ed-01a4-4e40-8810-f465afe4c2bd"
      },
      "outputs": [
        {
          "data": {
            "image/png": "[encoded data removed]",
            "text/plain": [
              "<Figure size 1200x800 with 2 Axes>"
            ]
          },
          "metadata": {},
          "output_type": "display_data"
        }
      ],
      "source": [
        "corr = train_df.select_dtypes(include=np.number).corr()\n",
        "plt.figure(figsize=(12, 8))\n",
        "sns.heatmap(corr, annot=True, cmap='coolwarm')\n",
        "plt.title(\"Correlation Heatmap\")\n",
        "plt.savefig(f\"{plot_dir}correlation_heatmap.png\")\n",
        "plt.show()\n",
        "plt.close()\n"
      ]
    },
    {
      "cell_type": "markdown",
      "metadata": {
        "id": "mMTLPzP5eR2n"
      },
      "source": [
        "# Preprocessing"
      ]
    },
    {
      "cell_type": "code",
      "execution_count": 9,
      "metadata": {
        "id": "oN2Ss49NTIIn"
      },
      "outputs": [],
      "source": [
        "X = train_df.drop(['Credit_Score'], axis=1)\n",
        "y = train_df['Credit_Score']\n",
        "\n",
        "# Encode the target variable\n",
        "le_y = LabelEncoder()\n",
        "y = le_y.fit_transform(y)"
      ]
    },
    {
      "cell_type": "markdown",
      "metadata": {
        "id": "D_XXRJdoecLl"
      },
      "source": [
        "# ***Encode*** ***categoricals***"
      ]
    },
    {
      "cell_type": "code",
      "execution_count": 10,
      "metadata": {
        "colab": {
          "base_uri": "https://localhost:8080/"
        },
        "id": "d3zjeqEyTNhP",
        "outputId": "eb740d28-65f3-441b-9e4e-84bbff904c5b"
      },
      "outputs": [
        {
          "name": "stderr",
          "output_type": "stream",
          "text": [
            "C:\\Users\\Zain\\AppData\\Local\\Temp\\ipykernel_12484\\2769214688.py:49: FutureWarning: A value is trying to be set on a copy of a DataFrame or Series through chained assignment using an inplace method.\n",
            "The behavior will change in pandas 3.0. This inplace method will never work because the intermediate object on which we are setting values always behaves as a copy.\n",
            "\n",
            "For example, when doing 'df[col].method(value, inplace=True)', try using 'df.method({col: value}, inplace=True)' or df[col] = df[col].method(value) instead, to perform the operation inplace on the original object.\n",
            "\n",
            "\n",
            "  X[col].fillna(mean_val, inplace=True)\n",
            "C:\\Users\\Zain\\AppData\\Local\\Temp\\ipykernel_12484\\2769214688.py:51: FutureWarning: A value is trying to be set on a copy of a DataFrame or Series through chained assignment using an inplace method.\n",
            "The behavior will change in pandas 3.0. This inplace method will never work because the intermediate object on which we are setting values always behaves as a copy.\n",
            "\n",
            "For example, when doing 'df[col].method(value, inplace=True)', try using 'df.method({col: value}, inplace=True)' or df[col] = df[col].method(value) instead, to perform the operation inplace on the original object.\n",
            "\n",
            "\n",
            "  test_df[col].fillna(mean_val, inplace=True)\n"
          ]
        }
      ],
      "source": [
        "for col in X.select_dtypes(include='object').columns:\n",
        "    if col not in ['Credit_History_Age']: # Exclude Credit_History_Age from standard label encoding for now\n",
        "        le = LabelEncoder()\n",
        "        # Combine train and test data for fitting the encoder\n",
        "        combined_series = pd.concat([X[col].astype(str), test_df[col].astype(str)], axis=0).astype(str).unique()\n",
        "        le.fit(combined_series)\n",
        "\n",
        "        # Transform train and test data separately\n",
        "        X[col] = le.transform(X[col].astype(str))\n",
        "        test_df[col] = le.transform(test_df[col].astype(str))\n",
        "\n",
        "# Clean and convert 'Amount_invested_monthly' and 'Monthly_Balance' to numeric\n",
        "for col in ['Amount_invested_monthly', 'Monthly_Balance']:\n",
        "    # Convert to string and remove non-numeric characters except decimal point\n",
        "    X[col] = X[col].astype(str).str.replace('[^0-9.]', '', regex=True)\n",
        "    test_df[col] = test_df[col].astype(str).str.replace('[^0-9.]', '', regex=True)\n",
        "    # Convert to numeric, coercing errors to NaN\n",
        "    X[col] = pd.to_numeric(X[col], errors='coerce')\n",
        "    test_df[col] = pd.to_numeric(test_df[col], errors='coerce')\n",
        "\n",
        "# Process 'Credit_History_Age'\n",
        "def parse_credit_history_age(age_str):\n",
        "    if pd.isna(age_str) or str(age_str).lower() == 'nan': # Convert to string for comparison\n",
        "        return np.nan\n",
        "    # Ensure input is treated as string\n",
        "    age_str = str(age_str)\n",
        "    parts = age_str.replace(' Years and ', ' ').replace(' Months', '').split()\n",
        "    try:\n",
        "        years = int(parts[0]) if len(parts) > 0 else 0\n",
        "        months = int(parts[1]) if len(parts) > 1 else 0\n",
        "        return years * 12 + months\n",
        "    except (ValueError, IndexError):\n",
        "        return np.nan\n",
        "\n",
        "X['Credit_History_Age'] = X['Credit_History_Age'].apply(parse_credit_history_age)\n",
        "test_df['Credit_History_Age'] = test_df['Credit_History_Age'].apply(parse_credit_history_age)\n",
        "\n",
        "# Explicitly convert Credit_History_Age to float before imputation to handle NaNs correctly\n",
        "X['Credit_History_Age'] = X['Credit_History_Age'].astype(float)\n",
        "test_df['Credit_History_Age'] = test_df['Credit_History_Age'].astype(float)\n",
        "\n",
        "\n",
        "# Impute missing values (including those created by coercion and parsing)\n",
        "for col in X.columns:\n",
        "    if X[col].isnull().any():\n",
        "        # Impute with the mean for numeric columns\n",
        "        if X[col].dtype in ['int64', 'float64']:\n",
        "            mean_val = X[col].mean()\n",
        "            X[col].fillna(mean_val, inplace=True)\n",
        "            # Use the mean from the training data to impute missing values in the test data\n",
        "            test_df[col].fillna(mean_val, inplace=True)\n",
        "        # Impute with the mode for object columns\n",
        "        elif X[col].dtype == 'object':\n",
        "             mode_val = X[col].mode()[0]\n",
        "             X[col].fillna(mode_val, inplace=True)\n",
        "             test_df[col].fillna(mode_val, inplace=True)\n",
        "\n",
        "# Drop 'ID', 'Customer_ID', and 'Source' columns from X\n",
        "X = X.drop(['ID', 'Customer_ID', 'Source'], axis=1, errors='ignore') # Added 'errors=ignore' for robustness\n",
        "\n",
        "\n",
        "# At this point, 'ID' and 'Customer_ID' are expected to be dropped already or not present in X and test_df\n",
        "test_X = test_df.copy()\n",
        "\n",
        "# Assert no NaNs remain in X and test_X after imputation\n",
        "if X.isnull().sum().sum() > 0:\n",
        "    print(\"Warning: NaNs still present in X after imputation:\", X.isnull().sum()[X.isnull().sum() > 0])\n",
        "if test_X.isnull().sum().sum() > 0:\n",
        "    print(\"Warning: NaNs still present in test_X after imputation:\", test_X.isnull().sum()[test_X.isnull().sum() > 0])"
      ]
    },
    {
      "cell_type": "markdown",
      "metadata": {
        "id": "ppcsgC9Rehou"
      },
      "source": [
        "# --- 🔧 Feature Engineering: Derived Columns ---\n"
      ]
    },
    {
      "cell_type": "code",
      "execution_count": 11,
      "metadata": {
        "colab": {
          "base_uri": "https://localhost:8080/"
        },
        "id": "agYHBF2_c03Z",
        "outputId": "2e486991-aa7a-495e-bede-8ddb61a7e62f"
      },
      "outputs": [
        {
          "name": "stderr",
          "output_type": "stream",
          "text": [
            "C:\\Users\\Zain\\AppData\\Local\\Temp\\ipykernel_12484\\3230607112.py:45: FutureWarning: A value is trying to be set on a copy of a DataFrame or Series through chained assignment using an inplace method.\n",
            "The behavior will change in pandas 3.0. This inplace method will never work because the intermediate object on which we are setting values always behaves as a copy.\n",
            "\n",
            "For example, when doing 'df[col].method(value, inplace=True)', try using 'df.method({col: value}, inplace=True)' or df[col] = df[col].method(value) instead, to perform the operation inplace on the original object.\n",
            "\n",
            "\n",
            "  X[col].fillna(mean_val, inplace=True)\n",
            "C:\\Users\\Zain\\AppData\\Local\\Temp\\ipykernel_12484\\3230607112.py:46: FutureWarning: A value is trying to be set on a copy of a DataFrame or Series through chained assignment using an inplace method.\n",
            "The behavior will change in pandas 3.0. This inplace method will never work because the intermediate object on which we are setting values always behaves as a copy.\n",
            "\n",
            "For example, when doing 'df[col].method(value, inplace=True)', try using 'df.method({col: value}, inplace=True)' or df[col] = df[col].method(value) instead, to perform the operation inplace on the original object.\n",
            "\n",
            "\n",
            "  test_X[col].fillna(mean_val, inplace=True)\n"
          ]
        }
      ],
      "source": [
        "\n",
        "\n",
        "# 1. Credit per bank account\n",
        "X['Credit_Per_Account'] = X['Outstanding_Debt'] / X['Num_Bank_Accounts'].replace(0, np.nan)\n",
        "test_X['Credit_Per_Account'] = test_X['Outstanding_Debt'] / test_X['Num_Bank_Accounts'].replace(0, np.nan)\n",
        "\n",
        "# 2. Loan burden (how much of salary goes into EMIs)\n",
        "X['Loan_Burden'] = X['Total_EMI_per_month'] / X['Monthly_Inhand_Salary'].replace(0, np.nan)\n",
        "test_X['Loan_Burden'] = test_X['Total_EMI_per_month'] / test_X['Monthly_Inhand_Salary'].replace(0, np.nan)\n",
        "\n",
        "# 3. Investment to salary ratio\n",
        "X['Investment_Ratio'] = X['Amount_invested_monthly'] / X['Monthly_Inhand_Salary'].replace(0, np.nan)\n",
        "test_X['Investment_Ratio'] = test_X['Amount_invested_monthly'] / test_X['Monthly_Inhand_Salary'].replace(0, np.nan)\n",
        "\n",
        "# 4. Delayed payments to number of loans ratio\n",
        "X['Delayed_Payment_Ratio'] = X['Num_of_Delayed_Payment'] / X['Num_of_Loan'].replace(0, np.nan)\n",
        "test_X['Delayed_Payment_Ratio'] = test_X['Num_of_Delayed_Payment'] / test_X['Num_of_Loan'].replace(0, np.nan)\n",
        "\n",
        "# 5. Average delay duration\n",
        "X['Avg_Payment_Delay'] = X['Delay_from_due_date'] / X['Num_of_Delayed_Payment'].replace(0, np.nan)\n",
        "test_X['Avg_Payment_Delay'] = test_X['Delay_from_due_date'] / test_X['Num_of_Delayed_Payment'].replace(0, np.nan)\n",
        "\n",
        "# 6. EMI to income ratio\n",
        "X['EMI_to_Income_Ratio'] = X['Total_EMI_per_month'] / X['Annual_Income'].replace(0, np.nan)\n",
        "test_X['EMI_to_Income_Ratio'] = test_X['Total_EMI_per_month'] / test_X['Annual_Income'].replace(0, np.nan)\n",
        "\n",
        "# 7. Credit saturation level\n",
        "X['Credit_Saturation_Level'] = X['Credit_Utilization_Ratio'] * X['Num_Credit_Card']\n",
        "test_X['Credit_Saturation_Level'] = test_X['Credit_Utilization_Ratio'] * test_X['Num_Credit_Card']\n",
        "\n",
        "# 8. Salary to debt ratio\n",
        "X['Salary_to_Debt_Ratio'] = X['Monthly_Inhand_Salary'] / X['Outstanding_Debt'].replace(0, np.nan)\n",
        "test_X['Salary_to_Debt_Ratio'] = test_X['Monthly_Inhand_Salary'] / test_X['Outstanding_Debt'].replace(0, np.nan)\n",
        "\n",
        "# 9. Binary encoding of Payment_of_Min_Amount\n",
        "X['Is_Min_Payment_Yes'] = (X['Payment_of_Min_Amount'] == 1).astype(int)\n",
        "test_X['Is_Min_Payment_Yes'] = (test_X['Payment_of_Min_Amount'] == 1).astype(int)\n",
        "\n",
        "# 10. Age-to-Credit-History ratio (assuming both in months)\n",
        "X['Age_to_Credit_History'] = X['Age'] / X['Credit_History_Age'].replace(0, np.nan)\n",
        "test_X['Age_to_Credit_History'] = test_X['Age'] / test_X['Credit_History_Age'].replace(0, np.nan)\n",
        "\n",
        "# --- Impute any new NaNs generated ---\n",
        "for col in X.columns:\n",
        "    if X[col].isnull().any():\n",
        "        mean_val = X[col].mean()\n",
        "        X[col].fillna(mean_val, inplace=True)\n",
        "        test_X[col].fillna(mean_val, inplace=True)\n"
      ]
    },
    {
      "cell_type": "markdown",
      "metadata": {
        "id": "Um7rrA5Hen9-"
      },
      "source": [
        "# Scaling"
      ]
    },
    {
      "cell_type": "code",
      "execution_count": 12,
      "metadata": {
        "id": "TwNTv92eTbJz"
      },
      "outputs": [],
      "source": [
        "scaler = StandardScaler()\n",
        "X_scaled = scaler.fit_transform(X)\n",
        "\n",
        "# Ensure test_X has the same columns as X before scaling\n",
        "test_X = test_X[X.columns]\n",
        "test_X_scaled = scaler.transform(test_X)"
      ]
    },
    {
      "cell_type": "markdown",
      "metadata": {
        "id": "jyqQMYsceqF9"
      },
      "source": [
        "# Split training data into training and validation sets\n"
      ]
    },
    {
      "cell_type": "code",
      "execution_count": 13,
      "metadata": {
        "id": "KNZ8pewLa7kC"
      },
      "outputs": [],
      "source": [
        "# Use the encoded y for splitting\n",
        "X_train, X_val, y_train, y_val = train_test_split(X, y, test_size=0.2, random_state=42, stratify=y)\n",
        "\n",
        "# Scale the training and validation features\n",
        "scaler_split = StandardScaler()\n",
        "X_train_scaled = scaler_split.fit_transform(X_train)\n",
        "X_val_scaled = scaler_split.transform(X_val)\n",
        "\n",
        "# Ensure test_X has the same columns as X_train before scaling\n",
        "test_X = test_X.drop(['Customer_ID', 'ID', 'Source'], axis=1, errors='ignore') # Drop these columns from test_X\n",
        "test_X_scaled = scaler_split.transform(test_X)"
      ]
    },
    {
      "cell_type": "markdown",
      "metadata": {
        "id": "fTTZO8jTewp8"
      },
      "source": [
        "# Train Models"
      ]
    },
    {
      "cell_type": "code",
      "execution_count": 14,
      "metadata": {
        "colab": {
          "base_uri": "https://localhost:8080/"
        },
        "id": "lnBSab2nUJYV",
        "outputId": "7eacf887-fb41-4c3d-f072-a29699de2b61"
      },
      "outputs": [
        {
          "name": "stdout",
          "output_type": "stream",
          "text": [
            "\n",
            "LogisticRegression Classification Report on Validation Set:\n",
            "              precision    recall  f1-score   support\n",
            "\n",
            "           0       0.51      0.39      0.44      3566\n",
            "           1       0.62      0.42      0.50      5799\n",
            "           2       0.61      0.77      0.68     10635\n",
            "\n",
            "    accuracy                           0.60     20000\n",
            "   macro avg       0.58      0.53      0.54     20000\n",
            "weighted avg       0.60      0.60      0.59     20000\n",
            "\n",
            "\n",
            "DecisionTree Classification Report on Validation Set:\n",
            "              precision    recall  f1-score   support\n",
            "\n",
            "           0       0.59      0.59      0.59      3566\n",
            "           1       0.63      0.64      0.64      5799\n",
            "           2       0.71      0.71      0.71     10635\n",
            "\n",
            "    accuracy                           0.67     20000\n",
            "   macro avg       0.64      0.65      0.65     20000\n",
            "weighted avg       0.67      0.67      0.67     20000\n",
            "\n",
            "\n",
            "RandomForest Classification Report on Validation Set:\n",
            "              precision    recall  f1-score   support\n",
            "\n",
            "           0       0.73      0.71      0.72      3566\n",
            "           1       0.77      0.78      0.78      5799\n",
            "           2       0.80      0.80      0.80     10635\n",
            "\n",
            "    accuracy                           0.78     20000\n",
            "   macro avg       0.77      0.76      0.77     20000\n",
            "weighted avg       0.78      0.78      0.78     20000\n",
            "\n",
            "✅ Model performance saved to models/model_performance.csv\n"
          ]
        }
      ],
      "source": [
        "best_model = None\n",
        "best_score = -1  # For weighted avg F1-score\n",
        "best_model_name = \"\"\n",
        "\n",
        "performance_data = []  # For performance CSV\n",
        "os.makedirs('models', exist_ok=True)\n",
        "\n",
        "def train_and_evaluate(model, name, X_train, y_train, X_val, y_val):\n",
        "    global best_model, best_score, best_model_name\n",
        "\n",
        "    model.fit(X_train, y_train)\n",
        "    preds = model.predict(X_val)\n",
        "\n",
        "    print(f\"\\n{name} Classification Report on Validation Set:\")\n",
        "    report = classification_report(y_val, preds, output_dict=True)\n",
        "    print(classification_report(y_val, preds))\n",
        "\n",
        "    # Save metrics\n",
        "    weighted_f1 = report['weighted avg']['f1-score']\n",
        "    weighted_precision = report['weighted avg']['precision']\n",
        "    weighted_recall = report['weighted avg']['recall']\n",
        "    accuracy = report['accuracy']\n",
        "\n",
        "    performance_data.append({\n",
        "        'Model': name,\n",
        "        'Accuracy': round(accuracy, 4),\n",
        "        'Precision (Weighted)': round(weighted_precision, 4),\n",
        "        'Recall (Weighted)': round(weighted_recall, 4),\n",
        "        'F1-Score (Weighted)': round(weighted_f1, 4)\n",
        "    })\n",
        "\n",
        "    # Plot confusion matrix\n",
        "    cm = confusion_matrix(y_val, preds)\n",
        "    plt.figure(figsize=(8, 6))\n",
        "    sns.heatmap(cm, annot=True, fmt='d', cmap='Blues')\n",
        "    plt.title(f\"Confusion Matrix - {name} (Validation Set)\")\n",
        "    plt.savefig(f\"{plot_dir}{name}_confusion_matrix_validation.png\")\n",
        "    plt.close()\n",
        "\n",
        "    # Save model\n",
        "    joblib.dump(model, f\"models/{name}.pkl\")\n",
        "\n",
        "    # Check for best model\n",
        "    if weighted_f1 > best_score:\n",
        "        best_score = weighted_f1\n",
        "        best_model = model\n",
        "        best_model_name = name\n",
        "        joblib.dump(model, \"models/best_model.pkl\")\n",
        "\n",
        "# --- Train All Models ---\n",
        "models = {\n",
        "    \"LogisticRegression\": LogisticRegression(max_iter=1000),\n",
        "    \"DecisionTree\": DecisionTreeClassifier(),\n",
        "    \"RandomForest\": RandomForestClassifier()\n",
        "}\n",
        "\n",
        "for name, model in models.items():\n",
        "    train_and_evaluate(model, name, X_train_scaled, y_train, X_val_scaled, y_val)\n",
        "\n",
        "# Save performance table\n",
        "perf_df = pd.DataFrame(performance_data)\n",
        "perf_df.to_csv('models/model_performance.csv', index=False)\n",
        "print(\"✅ Model performance saved to models/model_performance.csv\")\n",
        "\n"
      ]
    },
    {
      "cell_type": "markdown",
      "metadata": {
        "id": "NLgQSSGJe1av"
      },
      "source": [
        "# 🔍 Summary: Best Model"
      ]
    },
    {
      "cell_type": "code",
      "execution_count": 17,
      "metadata": {
        "colab": {
          "base_uri": "https://localhost:8080/"
        },
        "id": "5Q41C7CvVYwW",
        "outputId": "0e8f02ca-1475-4fb4-8e31-58f485fefe11"
      },
      "outputs": [
        {
          "name": "stdout",
          "output_type": "stream",
          "text": [
            "\n",
            "🔍 Summary of Best Model:\n",
            "✅ Best Model: RandomForest\n",
            "🎯 Best Weighted Avg F1-score on Validation Set: 0.7783\n"
          ]
        }
      ],
      "source": [
        "\n",
        "print(\"\\n🔍 Summary of Best Model:\")\n",
        "if best_model:\n",
        "    print(f\"✅ Best Model: {best_model_name}\")\n",
        "    print(f\"🎯 Best Weighted Avg F1-score on Validation Set: {best_score:.4f}\")\n",
        "else:\n",
        "    print(\"⚠️ No model was marked as best. Check if evaluation metric was calculated properly.\")"
      ]
    }
  ],
  "metadata": {
    "accelerator": "TPU",
    "colab": {
      "gpuType": "V28",
      "provenance": []
    },
    "kernelspec": {
      "display_name": "Python 3",
      "name": "python3"
    },
    "language_info": {
      "codemirror_mode": {
        "name": "ipython",
        "version": 3
      },
      "file_extension": ".py",
      "mimetype": "text/x-python",
      "name": "python",
      "nbconvert_exporter": "python",
      "pygments_lexer": "ipython3",
      "version": "3.12.4"
    }
  },
  "nbformat": 4,
  "nbformat_minor": 0
}
